{
 "cells": [
  {
   "cell_type": "code",
   "execution_count": null,
   "metadata": {},
   "outputs": [],
   "source": [
    "import requests\n",
    "import json\n",
    "import time\n",
    "from kafka import KafkaProducer\n",
    "from kafka.errors import KafkaError\n",
    "import json\n",
    "import csv\n",
    "import time\n",
    "import random\n",
    "\n",
    "\n",
    "\n",
    "\n",
    "\n",
    "\n",
    "header = {\n",
    "    \n",
    "    'X-API-KEY': 'ec0e7d95-562e-4de3-b3f6-8f2cd6113d22',\n",
    "    \"Accept\": \"application/json\",\n",
    "    \"Content-Type\": \"application/json\"\n",
    "    \n",
    "}\n",
    "\n",
    "def get_payload() : \n",
    "    payload = {}\n",
    "    payload[\"battery_charging\"] = random.choice([\"yes\",\"no\"])\n",
    "    payload[\"battery_health\"] = random.randrange(0,101,1)\n",
    "    payload[\"mileage\"] = random.randrange(0,10000,1)\n",
    "    payload[\"speed\"] = random.randrange(0,180,1)\n",
    "    payload[\"central_locking_system\"] = random.choice([\"closed\",\"open\"])\n",
    "    payload[\"rain_sensor\"] = random.choice([\"rain\",\"no_rain\"])\n",
    "    payload[\"distance_to_object_back\"] = random.uniform(0,20)\n",
    "    payload[\"distance_to_object_front\"] = random.uniform(0,20)\n",
    "    payload[\"distance_to_object_bottom\"] = random.uniform(0,20)\n",
    "    payload[\"distance_to_object_left\"] = random.uniform(0,20)\n",
    "    payload[\"distance_to_object_right\"] = random.uniform(0,20)\n",
    "    payload[\"temperature_inside\"] = random.randrange(-100,100,1)\n",
    "    payload[\"temperature_outside\"] = random.randrange(-100,100,1)\n",
    "    payload[\"person_count\"] = 3 \n",
    "    return payload\n",
    "\n",
    "\n",
    "\n",
    "\n",
    "\n",
    "\n",
    "\n",
    "\n",
    "\n",
    "url = \"https://ego-vehicle-api.azurewebsites.net/api/v1/vehicle/signals\"\n"
   ]
  },
  {
   "cell_type": "code",
   "execution_count": null,
   "metadata": {},
   "outputs": [],
   "source": [
    "while True:\n",
    "    time.sleep(2)\n",
    "    r = requests.patch(url, json=get_payload() , headers=header)\n",
    "    print(r)\n",
    "    "
   ]
  },
  {
   "cell_type": "code",
   "execution_count": null,
   "metadata": {},
   "outputs": [],
   "source": []
  }
 ],
 "metadata": {
  "kernelspec": {
   "display_name": "Python 3",
   "language": "python",
   "name": "python3"
  },
  "language_info": {
   "codemirror_mode": {
    "name": "ipython",
    "version": 3
   },
   "file_extension": ".py",
   "mimetype": "text/x-python",
   "name": "python",
   "nbconvert_exporter": "python",
   "pygments_lexer": "ipython3",
   "version": "3.6.8"
  }
 },
 "nbformat": 4,
 "nbformat_minor": 2
}
