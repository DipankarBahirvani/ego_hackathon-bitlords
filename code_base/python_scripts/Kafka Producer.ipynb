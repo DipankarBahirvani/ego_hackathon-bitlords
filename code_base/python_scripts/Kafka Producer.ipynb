{
 "cells": [
  {
   "cell_type": "code",
   "execution_count": 3,
   "metadata": {},
   "outputs": [],
   "source": [
    "from kafka import KafkaProducer\n",
    "from kafka.errors import KafkaError\n",
    "import json\n",
    "import csv\n",
    "import time\n",
    "\n",
    "from datetime import datetime\n",
    "import requests\n",
    "\n",
    "\n",
    "\n",
    "def get_producer():\n",
    "    #value_schema = avro.load(\"factory_floor1_machine_1_parameters.avsc\")\n",
    "\n",
    "    #avroProducer = AvroProducer({\n",
    "       # 'bootstrap.servers': '0.0.0.0:9092',\n",
    "    #'schema.registry.url': 'http://localhost:8081'\n",
    "    #    },  default_value_schema=value_schema)\n",
    "   # return avroProducer\n",
    "    producer = KafkaProducer(bootstrap_servers=['localhost:9092'],value_serializer=lambda v: json.dumps(v).encode('utf-8'))\n",
    "    return producer\n",
    "\n",
    "\n",
    "\n",
    "\n",
    "\n",
    "\n",
    "\n",
    "\n",
    "\n",
    "\n"
   ]
  },
  {
   "cell_type": "code",
   "execution_count": 4,
   "metadata": {},
   "outputs": [
    {
     "name": "stdout",
     "output_type": "stream",
     "text": [
      "{'battery_charging': 'yes', 'battery_charging_current': 16, 'battery_health': 79, 'battery_loading_capacity': 11, 'battery_state_of_charge': 100, 'battery_total_kwh_capacity': 17.5, 'brake_fluid_level': 100, 'calculated_remaining_distance': 150, 'central_locking_system': 'closed', 'distance_to_object_back': 14.866637640919166, 'distance_to_object_bottom': 1.0145246953549614, 'distance_to_object_front': 16.514227251193883, 'distance_to_object_left': 7.817024611912153, 'distance_to_object_right': 1.3421563147965077, 'distance_trip': 0, 'door_disc_front_left': 'open', 'door_disc_front_right': 'open', 'door_front_left': 'open', 'door_front_right': 'open', 'drive_mode': 'sport', 'flash': 'on', 'heated_seats': 'on', 'high_beam': 'on', 'infotainment': 'on', 'infotainment_volume': 5, 'location': '51,7', 'mileage': 9872, 'motor_control_lamp': 'on', 'person_count': 3, 'pulse_sensor_steering_wheel': 73, 'power_consumption': 0, 'rain_sensor': 'no_rain', 'rear_running_lights': 'on', 'side_lights': 'on', 'speed': 23, 'stop_lights': 'on', 'temperature_inside': -81, 'temperature_outside': 60, 'tire_pressure_back_left': 3, 'tire_pressure_back_right': 3, 'tire_pressure_front_left': 3, 'tire_pressure_front_right': 3, 'trunk': 'open', 'turn_signal_left': 'on', 'turn_signal_right': 'on', 'warning_blinker': 'on', 'weight': 1200, 'windshield_wipers': 'on', 'wiping_water_level': 100}\n",
      "{'battery_charging': 'no', 'battery_charging_current': 16, 'battery_health': 64, 'battery_loading_capacity': 11, 'battery_state_of_charge': 100, 'battery_total_kwh_capacity': 17.5, 'brake_fluid_level': 100, 'calculated_remaining_distance': 150, 'central_locking_system': 'open', 'distance_to_object_back': 4.663345101384133, 'distance_to_object_bottom': 15.776349897113464, 'distance_to_object_front': 7.844943453902776, 'distance_to_object_left': 8.870344265117565, 'distance_to_object_right': 17.655680259887482, 'distance_trip': 0, 'door_disc_front_left': 'open', 'door_disc_front_right': 'open', 'door_front_left': 'open', 'door_front_right': 'open', 'drive_mode': 'sport', 'flash': 'on', 'heated_seats': 'on', 'high_beam': 'on', 'infotainment': 'on', 'infotainment_volume': 5, 'location': '51,7', 'mileage': 3694, 'motor_control_lamp': 'on', 'person_count': 3, 'pulse_sensor_steering_wheel': 73, 'power_consumption': 0, 'rain_sensor': 'no_rain', 'rear_running_lights': 'on', 'side_lights': 'on', 'speed': 34, 'stop_lights': 'on', 'temperature_inside': 89, 'temperature_outside': -100, 'tire_pressure_back_left': 3, 'tire_pressure_back_right': 3, 'tire_pressure_front_left': 3, 'tire_pressure_front_right': 3, 'trunk': 'open', 'turn_signal_left': 'on', 'turn_signal_right': 'on', 'warning_blinker': 'on', 'weight': 1200, 'windshield_wipers': 'on', 'wiping_water_level': 100}\n",
      "{'battery_charging': 'no', 'battery_charging_current': 16, 'battery_health': 64, 'battery_loading_capacity': 11, 'battery_state_of_charge': 100, 'battery_total_kwh_capacity': 17.5, 'brake_fluid_level': 100, 'calculated_remaining_distance': 150, 'central_locking_system': 'open', 'distance_to_object_back': 4.663345101384133, 'distance_to_object_bottom': 15.776349897113464, 'distance_to_object_front': 7.844943453902776, 'distance_to_object_left': 8.870344265117565, 'distance_to_object_right': 17.655680259887482, 'distance_trip': 0, 'door_disc_front_left': 'open', 'door_disc_front_right': 'open', 'door_front_left': 'open', 'door_front_right': 'open', 'drive_mode': 'sport', 'flash': 'on', 'heated_seats': 'on', 'high_beam': 'on', 'infotainment': 'on', 'infotainment_volume': 5, 'location': '51,7', 'mileage': 3694, 'motor_control_lamp': 'on', 'person_count': 3, 'pulse_sensor_steering_wheel': 73, 'power_consumption': 0, 'rain_sensor': 'no_rain', 'rear_running_lights': 'on', 'side_lights': 'on', 'speed': 34, 'stop_lights': 'on', 'temperature_inside': 89, 'temperature_outside': -100, 'tire_pressure_back_left': 3, 'tire_pressure_back_right': 3, 'tire_pressure_front_left': 3, 'tire_pressure_front_right': 3, 'trunk': 'open', 'turn_signal_left': 'on', 'turn_signal_right': 'on', 'warning_blinker': 'on', 'weight': 1200, 'windshield_wipers': 'on', 'wiping_water_level': 100}\n",
      "{'battery_charging': 'yes', 'battery_charging_current': 16, 'battery_health': 55, 'battery_loading_capacity': 11, 'battery_state_of_charge': 100, 'battery_total_kwh_capacity': 17.5, 'brake_fluid_level': 100, 'calculated_remaining_distance': 150, 'central_locking_system': 'closed', 'distance_to_object_back': 3.055372494994937, 'distance_to_object_bottom': 1.5405108586405047, 'distance_to_object_front': 18.675044261380485, 'distance_to_object_left': 17.199114962739202, 'distance_to_object_right': 17.00981269248469, 'distance_trip': 0, 'door_disc_front_left': 'open', 'door_disc_front_right': 'open', 'door_front_left': 'open', 'door_front_right': 'open', 'drive_mode': 'sport', 'flash': 'on', 'heated_seats': 'on', 'high_beam': 'on', 'infotainment': 'on', 'infotainment_volume': 5, 'location': '51,7', 'mileage': 5793, 'motor_control_lamp': 'on', 'person_count': 3, 'pulse_sensor_steering_wheel': 73, 'power_consumption': 0, 'rain_sensor': 'no_rain', 'rear_running_lights': 'on', 'side_lights': 'on', 'speed': 168, 'stop_lights': 'on', 'temperature_inside': -48, 'temperature_outside': 61, 'tire_pressure_back_left': 3, 'tire_pressure_back_right': 3, 'tire_pressure_front_left': 3, 'tire_pressure_front_right': 3, 'trunk': 'open', 'turn_signal_left': 'on', 'turn_signal_right': 'on', 'warning_blinker': 'on', 'weight': 1200, 'windshield_wipers': 'on', 'wiping_water_level': 100}\n",
      "{'battery_charging': 'yes', 'battery_charging_current': 16, 'battery_health': 55, 'battery_loading_capacity': 11, 'battery_state_of_charge': 100, 'battery_total_kwh_capacity': 17.5, 'brake_fluid_level': 100, 'calculated_remaining_distance': 150, 'central_locking_system': 'closed', 'distance_to_object_back': 3.055372494994937, 'distance_to_object_bottom': 1.5405108586405047, 'distance_to_object_front': 18.675044261380485, 'distance_to_object_left': 17.199114962739202, 'distance_to_object_right': 17.00981269248469, 'distance_trip': 0, 'door_disc_front_left': 'open', 'door_disc_front_right': 'open', 'door_front_left': 'open', 'door_front_right': 'open', 'drive_mode': 'sport', 'flash': 'on', 'heated_seats': 'on', 'high_beam': 'on', 'infotainment': 'on', 'infotainment_volume': 5, 'location': '51,7', 'mileage': 5793, 'motor_control_lamp': 'on', 'person_count': 3, 'pulse_sensor_steering_wheel': 73, 'power_consumption': 0, 'rain_sensor': 'no_rain', 'rear_running_lights': 'on', 'side_lights': 'on', 'speed': 168, 'stop_lights': 'on', 'temperature_inside': -48, 'temperature_outside': 61, 'tire_pressure_back_left': 3, 'tire_pressure_back_right': 3, 'tire_pressure_front_left': 3, 'tire_pressure_front_right': 3, 'trunk': 'open', 'turn_signal_left': 'on', 'turn_signal_right': 'on', 'warning_blinker': 'on', 'weight': 1200, 'windshield_wipers': 'on', 'wiping_water_level': 100}\n",
      "{'battery_charging': 'yes', 'battery_charging_current': 16, 'battery_health': 55, 'battery_loading_capacity': 11, 'battery_state_of_charge': 100, 'battery_total_kwh_capacity': 17.5, 'brake_fluid_level': 100, 'calculated_remaining_distance': 150, 'central_locking_system': 'closed', 'distance_to_object_back': 3.055372494994937, 'distance_to_object_bottom': 1.5405108586405047, 'distance_to_object_front': 18.675044261380485, 'distance_to_object_left': 17.199114962739202, 'distance_to_object_right': 17.00981269248469, 'distance_trip': 0, 'door_disc_front_left': 'open', 'door_disc_front_right': 'open', 'door_front_left': 'open', 'door_front_right': 'open', 'drive_mode': 'sport', 'flash': 'on', 'heated_seats': 'on', 'high_beam': 'on', 'infotainment': 'on', 'infotainment_volume': 5, 'location': '51,7', 'mileage': 5793, 'motor_control_lamp': 'on', 'person_count': 3, 'pulse_sensor_steering_wheel': 73, 'power_consumption': 0, 'rain_sensor': 'no_rain', 'rear_running_lights': 'on', 'side_lights': 'on', 'speed': 168, 'stop_lights': 'on', 'temperature_inside': -48, 'temperature_outside': 61, 'tire_pressure_back_left': 3, 'tire_pressure_back_right': 3, 'tire_pressure_front_left': 3, 'tire_pressure_front_right': 3, 'trunk': 'open', 'turn_signal_left': 'on', 'turn_signal_right': 'on', 'warning_blinker': 'on', 'weight': 1200, 'windshield_wipers': 'on', 'wiping_water_level': 100}\n"
     ]
    },
    {
     "name": "stdout",
     "output_type": "stream",
     "text": [
      "{'battery_charging': 'yes', 'battery_charging_current': 16, 'battery_health': 21, 'battery_loading_capacity': 11, 'battery_state_of_charge': 100, 'battery_total_kwh_capacity': 17.5, 'brake_fluid_level': 100, 'calculated_remaining_distance': 150, 'central_locking_system': 'closed', 'distance_to_object_back': 6.579780035880482, 'distance_to_object_bottom': 7.8010645296053465, 'distance_to_object_front': 8.83602766618427, 'distance_to_object_left': 16.594990542317714, 'distance_to_object_right': 10.18991454546647, 'distance_trip': 0, 'door_disc_front_left': 'open', 'door_disc_front_right': 'open', 'door_front_left': 'open', 'door_front_right': 'open', 'drive_mode': 'sport', 'flash': 'on', 'heated_seats': 'on', 'high_beam': 'on', 'infotainment': 'on', 'infotainment_volume': 5, 'location': '51,7', 'mileage': 199, 'motor_control_lamp': 'on', 'person_count': 3, 'pulse_sensor_steering_wheel': 73, 'power_consumption': 0, 'rain_sensor': 'rain', 'rear_running_lights': 'on', 'side_lights': 'on', 'speed': 47, 'stop_lights': 'on', 'temperature_inside': 45, 'temperature_outside': 55, 'tire_pressure_back_left': 3, 'tire_pressure_back_right': 3, 'tire_pressure_front_left': 3, 'tire_pressure_front_right': 3, 'trunk': 'open', 'turn_signal_left': 'on', 'turn_signal_right': 'on', 'warning_blinker': 'on', 'weight': 1200, 'windshield_wipers': 'on', 'wiping_water_level': 100}\n",
      "{'battery_charging': 'yes', 'battery_charging_current': 16, 'battery_health': 21, 'battery_loading_capacity': 11, 'battery_state_of_charge': 100, 'battery_total_kwh_capacity': 17.5, 'brake_fluid_level': 100, 'calculated_remaining_distance': 150, 'central_locking_system': 'closed', 'distance_to_object_back': 6.579780035880482, 'distance_to_object_bottom': 7.8010645296053465, 'distance_to_object_front': 8.83602766618427, 'distance_to_object_left': 16.594990542317714, 'distance_to_object_right': 10.18991454546647, 'distance_trip': 0, 'door_disc_front_left': 'open', 'door_disc_front_right': 'open', 'door_front_left': 'open', 'door_front_right': 'open', 'drive_mode': 'sport', 'flash': 'on', 'heated_seats': 'on', 'high_beam': 'on', 'infotainment': 'on', 'infotainment_volume': 5, 'location': '51,7', 'mileage': 199, 'motor_control_lamp': 'on', 'person_count': 3, 'pulse_sensor_steering_wheel': 73, 'power_consumption': 0, 'rain_sensor': 'rain', 'rear_running_lights': 'on', 'side_lights': 'on', 'speed': 47, 'stop_lights': 'on', 'temperature_inside': 45, 'temperature_outside': 55, 'tire_pressure_back_left': 3, 'tire_pressure_back_right': 3, 'tire_pressure_front_left': 3, 'tire_pressure_front_right': 3, 'trunk': 'open', 'turn_signal_left': 'on', 'turn_signal_right': 'on', 'warning_blinker': 'on', 'weight': 1200, 'windshield_wipers': 'on', 'wiping_water_level': 100}\n",
      "{'battery_charging': 'yes', 'battery_charging_current': 16, 'battery_health': 21, 'battery_loading_capacity': 11, 'battery_state_of_charge': 100, 'battery_total_kwh_capacity': 17.5, 'brake_fluid_level': 100, 'calculated_remaining_distance': 150, 'central_locking_system': 'closed', 'distance_to_object_back': 6.579780035880482, 'distance_to_object_bottom': 7.8010645296053465, 'distance_to_object_front': 8.83602766618427, 'distance_to_object_left': 16.594990542317714, 'distance_to_object_right': 10.18991454546647, 'distance_trip': 0, 'door_disc_front_left': 'open', 'door_disc_front_right': 'open', 'door_front_left': 'open', 'door_front_right': 'open', 'drive_mode': 'sport', 'flash': 'on', 'heated_seats': 'on', 'high_beam': 'on', 'infotainment': 'on', 'infotainment_volume': 5, 'location': '51,7', 'mileage': 199, 'motor_control_lamp': 'on', 'person_count': 3, 'pulse_sensor_steering_wheel': 73, 'power_consumption': 0, 'rain_sensor': 'rain', 'rear_running_lights': 'on', 'side_lights': 'on', 'speed': 47, 'stop_lights': 'on', 'temperature_inside': 45, 'temperature_outside': 55, 'tire_pressure_back_left': 3, 'tire_pressure_back_right': 3, 'tire_pressure_front_left': 3, 'tire_pressure_front_right': 3, 'trunk': 'open', 'turn_signal_left': 'on', 'turn_signal_right': 'on', 'warning_blinker': 'on', 'weight': 1200, 'windshield_wipers': 'on', 'wiping_water_level': 100}\n"
     ]
    },
    {
     "ename": "KeyboardInterrupt",
     "evalue": "",
     "output_type": "error",
     "traceback": [
      "\u001b[0;31m---------------------------------------------------------------------------\u001b[0m",
      "\u001b[0;31mKeyboardInterrupt\u001b[0m                         Traceback (most recent call last)",
      "\u001b[0;32m<ipython-input-4-38df18dc738a>\u001b[0m in \u001b[0;36m<module>\u001b[0;34m\u001b[0m\n\u001b[1;32m     15\u001b[0m \u001b[0;34m\u001b[0m\u001b[0m\n\u001b[1;32m     16\u001b[0m \u001b[0;32mwhile\u001b[0m \u001b[0;32mTrue\u001b[0m \u001b[0;34m:\u001b[0m\u001b[0;34m\u001b[0m\u001b[0;34m\u001b[0m\u001b[0m\n\u001b[0;32m---> 17\u001b[0;31m     \u001b[0mtime\u001b[0m\u001b[0;34m.\u001b[0m\u001b[0msleep\u001b[0m\u001b[0;34m(\u001b[0m\u001b[0;36m2\u001b[0m\u001b[0;34m)\u001b[0m\u001b[0;34m\u001b[0m\u001b[0;34m\u001b[0m\u001b[0m\n\u001b[0m\u001b[1;32m     18\u001b[0m     \u001b[0mmessage\u001b[0m \u001b[0;34m=\u001b[0m \u001b[0mrequests\u001b[0m\u001b[0;34m.\u001b[0m\u001b[0mget\u001b[0m\u001b[0;34m(\u001b[0m\u001b[0;34m'https://ego-vehicle-api.azurewebsites.net/api/v1/vehicle/signals?cache=0'\u001b[0m\u001b[0;34m,\u001b[0m \u001b[0mheaders\u001b[0m\u001b[0;34m=\u001b[0m\u001b[0mheaders\u001b[0m\u001b[0;34m)\u001b[0m\u001b[0;34m\u001b[0m\u001b[0;34m\u001b[0m\u001b[0m\n\u001b[1;32m     19\u001b[0m     \u001b[0;32mtry\u001b[0m \u001b[0;34m:\u001b[0m\u001b[0;34m\u001b[0m\u001b[0;34m\u001b[0m\u001b[0m\n",
      "\u001b[0;31mKeyboardInterrupt\u001b[0m: "
     ]
    }
   ],
   "source": [
    "MQTT_TOPIC=\"vehicle/signals\"\n",
    "KAFKA_TOPIC=MQTT_TOPIC.replace(\"/\",\"_\")\n",
    "\n",
    "\n",
    "\n",
    "\n",
    "headers = {\n",
    "    \n",
    "    'X-API-KEY': 'ec0e7d95-562e-4de3-b3f6-8f2cd6113d22',\n",
    "    \n",
    "}\n",
    "\n",
    "avroProducer=get_producer()\n",
    "KAFKA_TOPIC = MQTT_TOPIC.replace(\"/\",\"_\")\n",
    "\n",
    "while True :\n",
    "    time.sleep(2)\n",
    "    message = requests.get('https://ego-vehicle-api.azurewebsites.net/api/v1/vehicle/signals?cache=0', headers=headers)\n",
    "    try :\n",
    "        message= (json.loads(message.content.decode(\"utf-8\")))\n",
    "    except :\n",
    "        print(\"Message cannot be parsed\")\n",
    "        \n",
    "    print(message)\n",
    "    try :\n",
    "        avroProducer.send(topic=KAFKA_TOPIC, value=message)\n",
    "        avroProducer.flush()\n",
    "    except :\n",
    "        print(\"Avro failure Kafka\")\n",
    "        \n",
    "\n",
    "   \n",
    "    \n",
    "\n",
    "\n",
    "\n",
    "\n"
   ]
  },
  {
   "cell_type": "code",
   "execution_count": null,
   "metadata": {},
   "outputs": [],
   "source": []
  }
 ],
 "metadata": {
  "kernelspec": {
   "display_name": "Python 3",
   "language": "python",
   "name": "python3"
  },
  "language_info": {
   "codemirror_mode": {
    "name": "ipython",
    "version": 3
   },
   "file_extension": ".py",
   "mimetype": "text/x-python",
   "name": "python",
   "nbconvert_exporter": "python",
   "pygments_lexer": "ipython3",
   "version": "3.6.8"
  }
 },
 "nbformat": 4,
 "nbformat_minor": 2
}
