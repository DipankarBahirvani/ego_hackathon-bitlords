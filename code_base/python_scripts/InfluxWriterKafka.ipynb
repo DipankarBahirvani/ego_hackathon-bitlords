{
 "cells": [
  {
   "cell_type": "code",
   "execution_count": null,
   "metadata": {},
   "outputs": [],
   "source": [
    "from confluent_kafka import Consumer, KafkaError\n",
    "from influxdb import InfluxDBClient\n",
    "import time \n",
    "import json\n",
    "import datetime\n",
    "import random\n",
    "\n",
    "\n",
    "c = Consumer({\n",
    "    'bootstrap.servers': 'localhost:9092',\n",
    "    'group.id': 'mygroup',\n",
    "    'auto.offset.reset': 'earliest'\n",
    "})\n",
    "user = 'root'\n",
    "password = 'root'\n",
    "dbname = 'vehicle'\n",
    "json_body=[]\n",
    "data={}\n",
    "data[\"measurement\"] = \"vehicle_signals\"\n",
    "tag={}\n",
    "tag[\"vachicle_id\"]= \"ec0e7d95-562e-4de3-b3f6-8f2cd6113d22\"\n",
    "tag[\"location\"]=\"Aachen\"\n",
    "data[\"tags\"]=tag\n",
    "client = InfluxDBClient('localhost', 8086, user, password, dbname)\n",
    "\n",
    "c.subscribe(['vehicle_signals'])\n",
    "\n",
    "while True:\n",
    "    try:\n",
    "        msg = c.poll(1.0)\n",
    "\n",
    "    except SerializerError as e:\n",
    "        print(\"Message deserialization failed for {}: {}\".format(msg, e))\n",
    "        break\n",
    "\n",
    "    if msg is None:\n",
    "        continue\n",
    "\n",
    "    if msg.error():\n",
    "        print(\"AvroConsumer error: {}\".format(msg.error()))\n",
    "        continue\n",
    "\n",
    "    print(msg.value().decode('utf-8'))\n",
    "    json_body=[]\n",
    "    data[\"time\"]= datetime.datetime.utcnow()\n",
    "    data[\"fields\"]= json.loads(msg.value().decode('utf-8'))\n",
    "    json_body.append(data)\n",
    "    print(json_body)\n",
    "    try :\n",
    "        client.write_points(json_body)\n",
    "    except :\n",
    "        print(\"Error\")\n",
    "     \n",
    "\n",
    "c.close()"
   ]
  },
  {
   "cell_type": "code",
   "execution_count": null,
   "metadata": {},
   "outputs": [],
   "source": []
  }
 ],
 "metadata": {
  "kernelspec": {
   "display_name": "Python 3",
   "language": "python",
   "name": "python3"
  },
  "language_info": {
   "codemirror_mode": {
    "name": "ipython",
    "version": 3
   },
   "file_extension": ".py",
   "mimetype": "text/x-python",
   "name": "python",
   "nbconvert_exporter": "python",
   "pygments_lexer": "ipython3",
   "version": "3.6.8"
  }
 },
 "nbformat": 4,
 "nbformat_minor": 2
}
