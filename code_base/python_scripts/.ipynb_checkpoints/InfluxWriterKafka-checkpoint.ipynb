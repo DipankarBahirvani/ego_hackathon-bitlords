{
 "cells": [
  {
   "cell_type": "code",
   "execution_count": 1,
   "metadata": {},
   "outputs": [
    {
     "name": "stdout",
     "output_type": "stream",
     "text": [
      "{\"battery_charging\": \"yes\", \"battery_charging_current\": 16, \"battery_health\": 100, \"battery_loading_capacity\": 11, \"battery_state_of_charge\": 100, \"brake_fluid_level\": 100, \"calculated_remaining_distance\": 150, \"central_locking_system\": \"open\", \"distance_to_object_back\": \"NaN\", \"distance_to_object_bottom\": 20, \"distance_to_object_front\": 15.64, \"distance_to_object_left\": 17.06, \"distance_to_object_right\": \"NaN\", \"distance_trip\": 0, \"door_disc_front_left\": \"open\", \"door_disc_front_right\": \"open\", \"door_front_left\": \"open\", \"door_front_right\": \"open\", \"drive_mode\": \"eco\", \"flash\": \"on\", \"heated_seats\": \"on\", \"high_beam\": \"on\", \"infotainment\": \"off\", \"infotainment_volume\": 5, \"location\": \"50.782117,6.047171\", \"mileage\": 0, \"motor_control_lamp\": \"on\", \"person_count\": 0, \"pulse_sensor_steering_wheel\": 73, \"power_consumption\": 0, \"rain_sensor\": \"rain\", \"rear_running_lights\": \"on\", \"side_lights\": \"on\", \"speed\": 80, \"stop_lights\": \"on\", \"temperature_inside\": 20, \"temperature_outside\": 10, \"tire_pressure_back_left\": 3, \"tire_pressure_back_right\": 3, \"tire_pressure_front_left\": 3, \"tire_pressure_front_right\": 3, \"trunk\": \"open\", \"turn_signal_left\": \"on\", \"turn_signal_right\": \"on\", \"warning_blinker\": \"on\", \"weight\": 1200, \"windshield_wipers\": \"on\", \"wiping_water_level\": 100}\n",
      "[{'measurement': 'env_metrics', 'tags': {'machine_id': 'vehicle', 'location': 'Aachen'}, 'time': datetime.datetime(2019, 5, 23, 10, 17, 46, 174973), 'fields': {'battery_charging': 'yes', 'battery_charging_current': 16, 'battery_health': 100, 'battery_loading_capacity': 11, 'battery_state_of_charge': 100, 'brake_fluid_level': 100, 'calculated_remaining_distance': 150, 'central_locking_system': 'open', 'distance_to_object_back': 'NaN', 'distance_to_object_bottom': 20, 'distance_to_object_front': 15.64, 'distance_to_object_left': 17.06, 'distance_to_object_right': 'NaN', 'distance_trip': 0, 'door_disc_front_left': 'open', 'door_disc_front_right': 'open', 'door_front_left': 'open', 'door_front_right': 'open', 'drive_mode': 'eco', 'flash': 'on', 'heated_seats': 'on', 'high_beam': 'on', 'infotainment': 'off', 'infotainment_volume': 5, 'location': '50.782117,6.047171', 'mileage': 0, 'motor_control_lamp': 'on', 'person_count': 0, 'pulse_sensor_steering_wheel': 73, 'power_consumption': 0, 'rain_sensor': 'rain', 'rear_running_lights': 'on', 'side_lights': 'on', 'speed': 80, 'stop_lights': 'on', 'temperature_inside': 20, 'temperature_outside': 10, 'tire_pressure_back_left': 3, 'tire_pressure_back_right': 3, 'tire_pressure_front_left': 3, 'tire_pressure_front_right': 3, 'trunk': 'open', 'turn_signal_left': 'on', 'turn_signal_right': 'on', 'warning_blinker': 'on', 'weight': 1200, 'windshield_wipers': 'on', 'wiping_water_level': 100}}]\n",
      "{\"battery_charging\": \"yes\", \"battery_charging_current\": 16, \"battery_health\": 100, \"battery_loading_capacity\": 11, \"battery_state_of_charge\": 100, \"brake_fluid_level\": 100, \"calculated_remaining_distance\": 150, \"central_locking_system\": \"open\", \"distance_to_object_back\": \"NaN\", \"distance_to_object_bottom\": 20, \"distance_to_object_front\": 15.64, \"distance_to_object_left\": 17.06, \"distance_to_object_right\": \"NaN\", \"distance_trip\": 0, \"door_disc_front_left\": \"open\", \"door_disc_front_right\": \"open\", \"door_front_left\": \"open\", \"door_front_right\": \"open\", \"drive_mode\": \"eco\", \"flash\": \"on\", \"heated_seats\": \"on\", \"high_beam\": \"on\", \"infotainment\": \"off\", \"infotainment_volume\": 5, \"location\": \"50.782117,6.047171\", \"mileage\": 0, \"motor_control_lamp\": \"on\", \"person_count\": 0, \"pulse_sensor_steering_wheel\": 73, \"power_consumption\": 0, \"rain_sensor\": \"rain\", \"rear_running_lights\": \"on\", \"side_lights\": \"on\", \"speed\": 80, \"stop_lights\": \"on\", \"temperature_inside\": 20, \"temperature_outside\": 10, \"tire_pressure_back_left\": 3, \"tire_pressure_back_right\": 3, \"tire_pressure_front_left\": 3, \"tire_pressure_front_right\": 3, \"trunk\": \"open\", \"turn_signal_left\": \"on\", \"turn_signal_right\": \"on\", \"warning_blinker\": \"on\", \"weight\": 1200, \"windshield_wipers\": \"on\", \"wiping_water_level\": 100}\n",
      "[{'measurement': 'env_metrics', 'tags': {'machine_id': 'vehicle', 'location': 'Aachen'}, 'time': datetime.datetime(2019, 5, 23, 10, 17, 46, 312791), 'fields': {'battery_charging': 'yes', 'battery_charging_current': 16, 'battery_health': 100, 'battery_loading_capacity': 11, 'battery_state_of_charge': 100, 'brake_fluid_level': 100, 'calculated_remaining_distance': 150, 'central_locking_system': 'open', 'distance_to_object_back': 'NaN', 'distance_to_object_bottom': 20, 'distance_to_object_front': 15.64, 'distance_to_object_left': 17.06, 'distance_to_object_right': 'NaN', 'distance_trip': 0, 'door_disc_front_left': 'open', 'door_disc_front_right': 'open', 'door_front_left': 'open', 'door_front_right': 'open', 'drive_mode': 'eco', 'flash': 'on', 'heated_seats': 'on', 'high_beam': 'on', 'infotainment': 'off', 'infotainment_volume': 5, 'location': '50.782117,6.047171', 'mileage': 0, 'motor_control_lamp': 'on', 'person_count': 0, 'pulse_sensor_steering_wheel': 73, 'power_consumption': 0, 'rain_sensor': 'rain', 'rear_running_lights': 'on', 'side_lights': 'on', 'speed': 80, 'stop_lights': 'on', 'temperature_inside': 20, 'temperature_outside': 10, 'tire_pressure_back_left': 3, 'tire_pressure_back_right': 3, 'tire_pressure_front_left': 3, 'tire_pressure_front_right': 3, 'trunk': 'open', 'turn_signal_left': 'on', 'turn_signal_right': 'on', 'warning_blinker': 'on', 'weight': 1200, 'windshield_wipers': 'on', 'wiping_water_level': 100}}]\n",
      "{\"battery_charging\": \"yes\", \"battery_charging_current\": 16, \"battery_health\": 100, \"battery_loading_capacity\": 11, \"battery_state_of_charge\": 100, \"brake_fluid_level\": 100, \"calculated_remaining_distance\": 150, \"central_locking_system\": \"open\", \"distance_to_object_back\": \"NaN\", \"distance_to_object_bottom\": 20, \"distance_to_object_front\": 15.64, \"distance_to_object_left\": 17.06, \"distance_to_object_right\": \"NaN\", \"distance_trip\": 0, \"door_disc_front_left\": \"open\", \"door_disc_front_right\": \"open\", \"door_front_left\": \"open\", \"door_front_right\": \"open\", \"drive_mode\": \"eco\", \"flash\": \"on\", \"heated_seats\": \"on\", \"high_beam\": \"on\", \"infotainment\": \"off\", \"infotainment_volume\": 5, \"location\": \"50.782117,6.047171\", \"mileage\": 0, \"motor_control_lamp\": \"on\", \"person_count\": 0, \"pulse_sensor_steering_wheel\": 73, \"power_consumption\": 0, \"rain_sensor\": \"rain\", \"rear_running_lights\": \"on\", \"side_lights\": \"on\", \"speed\": 80, \"stop_lights\": \"on\", \"temperature_inside\": 20, \"temperature_outside\": 10, \"tire_pressure_back_left\": 3, \"tire_pressure_back_right\": 3, \"tire_pressure_front_left\": 3, \"tire_pressure_front_right\": 3, \"trunk\": \"open\", \"turn_signal_left\": \"on\", \"turn_signal_right\": \"on\", \"warning_blinker\": \"on\", \"weight\": 1200, \"windshield_wipers\": \"on\", \"wiping_water_level\": 100}\n",
      "[{'measurement': 'env_metrics', 'tags': {'machine_id': 'vehicle', 'location': 'Aachen'}, 'time': datetime.datetime(2019, 5, 23, 10, 17, 46, 319633), 'fields': {'battery_charging': 'yes', 'battery_charging_current': 16, 'battery_health': 100, 'battery_loading_capacity': 11, 'battery_state_of_charge': 100, 'brake_fluid_level': 100, 'calculated_remaining_distance': 150, 'central_locking_system': 'open', 'distance_to_object_back': 'NaN', 'distance_to_object_bottom': 20, 'distance_to_object_front': 15.64, 'distance_to_object_left': 17.06, 'distance_to_object_right': 'NaN', 'distance_trip': 0, 'door_disc_front_left': 'open', 'door_disc_front_right': 'open', 'door_front_left': 'open', 'door_front_right': 'open', 'drive_mode': 'eco', 'flash': 'on', 'heated_seats': 'on', 'high_beam': 'on', 'infotainment': 'off', 'infotainment_volume': 5, 'location': '50.782117,6.047171', 'mileage': 0, 'motor_control_lamp': 'on', 'person_count': 0, 'pulse_sensor_steering_wheel': 73, 'power_consumption': 0, 'rain_sensor': 'rain', 'rear_running_lights': 'on', 'side_lights': 'on', 'speed': 80, 'stop_lights': 'on', 'temperature_inside': 20, 'temperature_outside': 10, 'tire_pressure_back_left': 3, 'tire_pressure_back_right': 3, 'tire_pressure_front_left': 3, 'tire_pressure_front_right': 3, 'trunk': 'open', 'turn_signal_left': 'on', 'turn_signal_right': 'on', 'warning_blinker': 'on', 'weight': 1200, 'windshield_wipers': 'on', 'wiping_water_level': 100}}]\n",
      "{\"battery_charging\": \"yes\", \"battery_charging_current\": 16, \"battery_health\": 100, \"battery_loading_capacity\": 11, \"battery_state_of_charge\": 100, \"brake_fluid_level\": 100, \"calculated_remaining_distance\": 150, \"central_locking_system\": \"open\", \"distance_to_object_back\": \"NaN\", \"distance_to_object_bottom\": 20, \"distance_to_object_front\": 15.64, \"distance_to_object_left\": 17.06, \"distance_to_object_right\": \"NaN\", \"distance_trip\": 0, \"door_disc_front_left\": \"open\", \"door_disc_front_right\": \"open\", \"door_front_left\": \"open\", \"door_front_right\": \"open\", \"drive_mode\": \"eco\", \"flash\": \"on\", \"heated_seats\": \"on\", \"high_beam\": \"on\", \"infotainment\": \"off\", \"infotainment_volume\": 5, \"location\": \"50.782117,6.047171\", \"mileage\": 0, \"motor_control_lamp\": \"on\", \"person_count\": 0, \"pulse_sensor_steering_wheel\": 73, \"power_consumption\": 0, \"rain_sensor\": \"rain\", \"rear_running_lights\": \"on\", \"side_lights\": \"on\", \"speed\": 80, \"stop_lights\": \"on\", \"temperature_inside\": 20, \"temperature_outside\": 10, \"tire_pressure_back_left\": 3, \"tire_pressure_back_right\": 3, \"tire_pressure_front_left\": 3, \"tire_pressure_front_right\": 3, \"trunk\": \"open\", \"turn_signal_left\": \"on\", \"turn_signal_right\": \"on\", \"warning_blinker\": \"on\", \"weight\": 1200, \"windshield_wipers\": \"on\", \"wiping_water_level\": 100}\n",
      "[{'measurement': 'env_metrics', 'tags': {'machine_id': 'vehicle', 'location': 'Aachen'}, 'time': datetime.datetime(2019, 5, 23, 10, 17, 46, 327058), 'fields': {'battery_charging': 'yes', 'battery_charging_current': 16, 'battery_health': 100, 'battery_loading_capacity': 11, 'battery_state_of_charge': 100, 'brake_fluid_level': 100, 'calculated_remaining_distance': 150, 'central_locking_system': 'open', 'distance_to_object_back': 'NaN', 'distance_to_object_bottom': 20, 'distance_to_object_front': 15.64, 'distance_to_object_left': 17.06, 'distance_to_object_right': 'NaN', 'distance_trip': 0, 'door_disc_front_left': 'open', 'door_disc_front_right': 'open', 'door_front_left': 'open', 'door_front_right': 'open', 'drive_mode': 'eco', 'flash': 'on', 'heated_seats': 'on', 'high_beam': 'on', 'infotainment': 'off', 'infotainment_volume': 5, 'location': '50.782117,6.047171', 'mileage': 0, 'motor_control_lamp': 'on', 'person_count': 0, 'pulse_sensor_steering_wheel': 73, 'power_consumption': 0, 'rain_sensor': 'rain', 'rear_running_lights': 'on', 'side_lights': 'on', 'speed': 80, 'stop_lights': 'on', 'temperature_inside': 20, 'temperature_outside': 10, 'tire_pressure_back_left': 3, 'tire_pressure_back_right': 3, 'tire_pressure_front_left': 3, 'tire_pressure_front_right': 3, 'trunk': 'open', 'turn_signal_left': 'on', 'turn_signal_right': 'on', 'warning_blinker': 'on', 'weight': 1200, 'windshield_wipers': 'on', 'wiping_water_level': 100}}]\n",
      "{\"battery_charging\": \"yes\", \"battery_charging_current\": 16, \"battery_health\": 100, \"battery_loading_capacity\": 11, \"battery_state_of_charge\": 100, \"brake_fluid_level\": 100, \"calculated_remaining_distance\": 150, \"central_locking_system\": \"open\", \"distance_to_object_back\": \"NaN\", \"distance_to_object_bottom\": 20, \"distance_to_object_front\": 15.64, \"distance_to_object_left\": 17.06, \"distance_to_object_right\": \"NaN\", \"distance_trip\": 0, \"door_disc_front_left\": \"open\", \"door_disc_front_right\": \"open\", \"door_front_left\": \"open\", \"door_front_right\": \"open\", \"drive_mode\": \"eco\", \"flash\": \"on\", \"heated_seats\": \"on\", \"high_beam\": \"on\", \"infotainment\": \"off\", \"infotainment_volume\": 5, \"location\": \"50.782117,6.047171\", \"mileage\": 0, \"motor_control_lamp\": \"on\", \"person_count\": 0, \"pulse_sensor_steering_wheel\": 73, \"power_consumption\": 0, \"rain_sensor\": \"rain\", \"rear_running_lights\": \"on\", \"side_lights\": \"on\", \"speed\": 80, \"stop_lights\": \"on\", \"temperature_inside\": 20, \"temperature_outside\": 10, \"tire_pressure_back_left\": 3, \"tire_pressure_back_right\": 3, \"tire_pressure_front_left\": 3, \"tire_pressure_front_right\": 3, \"trunk\": \"open\", \"turn_signal_left\": \"on\", \"turn_signal_right\": \"on\", \"warning_blinker\": \"on\", \"weight\": 1200, \"windshield_wipers\": \"on\", \"wiping_water_level\": 100}\n",
      "[{'measurement': 'env_metrics', 'tags': {'machine_id': 'vehicle', 'location': 'Aachen'}, 'time': datetime.datetime(2019, 5, 23, 10, 17, 46, 334092), 'fields': {'battery_charging': 'yes', 'battery_charging_current': 16, 'battery_health': 100, 'battery_loading_capacity': 11, 'battery_state_of_charge': 100, 'brake_fluid_level': 100, 'calculated_remaining_distance': 150, 'central_locking_system': 'open', 'distance_to_object_back': 'NaN', 'distance_to_object_bottom': 20, 'distance_to_object_front': 15.64, 'distance_to_object_left': 17.06, 'distance_to_object_right': 'NaN', 'distance_trip': 0, 'door_disc_front_left': 'open', 'door_disc_front_right': 'open', 'door_front_left': 'open', 'door_front_right': 'open', 'drive_mode': 'eco', 'flash': 'on', 'heated_seats': 'on', 'high_beam': 'on', 'infotainment': 'off', 'infotainment_volume': 5, 'location': '50.782117,6.047171', 'mileage': 0, 'motor_control_lamp': 'on', 'person_count': 0, 'pulse_sensor_steering_wheel': 73, 'power_consumption': 0, 'rain_sensor': 'rain', 'rear_running_lights': 'on', 'side_lights': 'on', 'speed': 80, 'stop_lights': 'on', 'temperature_inside': 20, 'temperature_outside': 10, 'tire_pressure_back_left': 3, 'tire_pressure_back_right': 3, 'tire_pressure_front_left': 3, 'tire_pressure_front_right': 3, 'trunk': 'open', 'turn_signal_left': 'on', 'turn_signal_right': 'on', 'warning_blinker': 'on', 'weight': 1200, 'windshield_wipers': 'on', 'wiping_water_level': 100}}]\n",
      "{\"battery_charging\": \"yes\", \"battery_charging_current\": 16, \"battery_health\": 100, \"battery_loading_capacity\": 11, \"battery_state_of_charge\": 100, \"brake_fluid_level\": 100, \"calculated_remaining_distance\": 150, \"central_locking_system\": \"open\", \"distance_to_object_back\": \"NaN\", \"distance_to_object_bottom\": 20, \"distance_to_object_front\": 15.64, \"distance_to_object_left\": 17.06, \"distance_to_object_right\": \"NaN\", \"distance_trip\": 0, \"door_disc_front_left\": \"open\", \"door_disc_front_right\": \"open\", \"door_front_left\": \"open\", \"door_front_right\": \"open\", \"drive_mode\": \"eco\", \"flash\": \"on\", \"heated_seats\": \"on\", \"high_beam\": \"on\", \"infotainment\": \"off\", \"infotainment_volume\": 5, \"location\": \"50.782117,6.047171\", \"mileage\": 0, \"motor_control_lamp\": \"on\", \"person_count\": 0, \"pulse_sensor_steering_wheel\": 73, \"power_consumption\": 0, \"rain_sensor\": \"rain\", \"rear_running_lights\": \"on\", \"side_lights\": \"on\", \"speed\": 80, \"stop_lights\": \"on\", \"temperature_inside\": 20, \"temperature_outside\": 10, \"tire_pressure_back_left\": 3, \"tire_pressure_back_right\": 3, \"tire_pressure_front_left\": 3, \"tire_pressure_front_right\": 3, \"trunk\": \"open\", \"turn_signal_left\": \"on\", \"turn_signal_right\": \"on\", \"warning_blinker\": \"on\", \"weight\": 1200, \"windshield_wipers\": \"on\", \"wiping_water_level\": 100}\n",
      "[{'measurement': 'env_metrics', 'tags': {'machine_id': 'vehicle', 'location': 'Aachen'}, 'time': datetime.datetime(2019, 5, 23, 10, 17, 46, 339181), 'fields': {'battery_charging': 'yes', 'battery_charging_current': 16, 'battery_health': 100, 'battery_loading_capacity': 11, 'battery_state_of_charge': 100, 'brake_fluid_level': 100, 'calculated_remaining_distance': 150, 'central_locking_system': 'open', 'distance_to_object_back': 'NaN', 'distance_to_object_bottom': 20, 'distance_to_object_front': 15.64, 'distance_to_object_left': 17.06, 'distance_to_object_right': 'NaN', 'distance_trip': 0, 'door_disc_front_left': 'open', 'door_disc_front_right': 'open', 'door_front_left': 'open', 'door_front_right': 'open', 'drive_mode': 'eco', 'flash': 'on', 'heated_seats': 'on', 'high_beam': 'on', 'infotainment': 'off', 'infotainment_volume': 5, 'location': '50.782117,6.047171', 'mileage': 0, 'motor_control_lamp': 'on', 'person_count': 0, 'pulse_sensor_steering_wheel': 73, 'power_consumption': 0, 'rain_sensor': 'rain', 'rear_running_lights': 'on', 'side_lights': 'on', 'speed': 80, 'stop_lights': 'on', 'temperature_inside': 20, 'temperature_outside': 10, 'tire_pressure_back_left': 3, 'tire_pressure_back_right': 3, 'tire_pressure_front_left': 3, 'tire_pressure_front_right': 3, 'trunk': 'open', 'turn_signal_left': 'on', 'turn_signal_right': 'on', 'warning_blinker': 'on', 'weight': 1200, 'windshield_wipers': 'on', 'wiping_water_level': 100}}]\n",
      "AvroConsumer error: KafkaError{code=_PARTITION_EOF,val=-191,str=\"Broker: No more messages\"}\n"
     ]
    },
    {
     "ename": "NameError",
     "evalue": "name 'SerializerError' is not defined",
     "output_type": "error",
     "traceback": [
      "\u001b[0;31m---------------------------------------------------------------------------\u001b[0m",
      "\u001b[0;31mKeyboardInterrupt\u001b[0m                         Traceback (most recent call last)",
      "\u001b[0;32m<ipython-input-1-c4045aca514c>\u001b[0m in \u001b[0;36m<module>\u001b[0;34m\u001b[0m\n\u001b[1;32m     29\u001b[0m     \u001b[0;32mtry\u001b[0m\u001b[0;34m:\u001b[0m\u001b[0;34m\u001b[0m\u001b[0;34m\u001b[0m\u001b[0m\n\u001b[0;32m---> 30\u001b[0;31m         \u001b[0mmsg\u001b[0m \u001b[0;34m=\u001b[0m \u001b[0mc\u001b[0m\u001b[0;34m.\u001b[0m\u001b[0mpoll\u001b[0m\u001b[0;34m(\u001b[0m\u001b[0;36m1.0\u001b[0m\u001b[0;34m)\u001b[0m\u001b[0;34m\u001b[0m\u001b[0;34m\u001b[0m\u001b[0m\n\u001b[0m\u001b[1;32m     31\u001b[0m \u001b[0;34m\u001b[0m\u001b[0m\n",
      "\u001b[0;31mKeyboardInterrupt\u001b[0m: ",
      "\nDuring handling of the above exception, another exception occurred:\n",
      "\u001b[0;31mNameError\u001b[0m                                 Traceback (most recent call last)",
      "\u001b[0;32m<ipython-input-1-c4045aca514c>\u001b[0m in \u001b[0;36m<module>\u001b[0;34m\u001b[0m\n\u001b[1;32m     30\u001b[0m         \u001b[0mmsg\u001b[0m \u001b[0;34m=\u001b[0m \u001b[0mc\u001b[0m\u001b[0;34m.\u001b[0m\u001b[0mpoll\u001b[0m\u001b[0;34m(\u001b[0m\u001b[0;36m1.0\u001b[0m\u001b[0;34m)\u001b[0m\u001b[0;34m\u001b[0m\u001b[0;34m\u001b[0m\u001b[0m\n\u001b[1;32m     31\u001b[0m \u001b[0;34m\u001b[0m\u001b[0m\n\u001b[0;32m---> 32\u001b[0;31m     \u001b[0;32mexcept\u001b[0m \u001b[0mSerializerError\u001b[0m \u001b[0;32mas\u001b[0m \u001b[0me\u001b[0m\u001b[0;34m:\u001b[0m\u001b[0;34m\u001b[0m\u001b[0;34m\u001b[0m\u001b[0m\n\u001b[0m\u001b[1;32m     33\u001b[0m         \u001b[0mprint\u001b[0m\u001b[0;34m(\u001b[0m\u001b[0;34m\"Message deserialization failed for {}: {}\"\u001b[0m\u001b[0;34m.\u001b[0m\u001b[0mformat\u001b[0m\u001b[0;34m(\u001b[0m\u001b[0mmsg\u001b[0m\u001b[0;34m,\u001b[0m \u001b[0me\u001b[0m\u001b[0;34m)\u001b[0m\u001b[0;34m)\u001b[0m\u001b[0;34m\u001b[0m\u001b[0;34m\u001b[0m\u001b[0m\n\u001b[1;32m     34\u001b[0m         \u001b[0;32mbreak\u001b[0m\u001b[0;34m\u001b[0m\u001b[0;34m\u001b[0m\u001b[0m\n",
      "\u001b[0;31mNameError\u001b[0m: name 'SerializerError' is not defined"
     ]
    }
   ],
   "source": [
    "from confluent_kafka import Consumer, KafkaError\n",
    "from influxdb import InfluxDBClient\n",
    "import time \n",
    "import json\n",
    "import datetime\n",
    "import random\n",
    "\n",
    "\n",
    "c = Consumer({\n",
    "    'bootstrap.servers': 'localhost:9092',\n",
    "    'group.id': 'mygroup',\n",
    "    'auto.offset.reset': 'earliest'\n",
    "})\n",
    "user = 'root'\n",
    "password = 'root'\n",
    "dbname = 'factory_floor1'\n",
    "json_body=[]\n",
    "data={}\n",
    "data[\"measurement\"] = \"env_metrics\"\n",
    "tag={}\n",
    "tag[\"machine_id\"]= \"vehicle\"\n",
    "tag[\"location\"]=\"Aachen\"\n",
    "data[\"tags\"]=tag\n",
    "client = InfluxDBClient('localhost', 8086, user, password, dbname)\n",
    "\n",
    "c.subscribe(['vehicle_signals'])\n",
    "\n",
    "while True:\n",
    "    try:\n",
    "        msg = c.poll(1.0)\n",
    "\n",
    "    except SerializerError as e:\n",
    "        print(\"Message deserialization failed for {}: {}\".format(msg, e))\n",
    "        break\n",
    "\n",
    "    if msg is None:\n",
    "        continue\n",
    "\n",
    "    if msg.error():\n",
    "        print(\"AvroConsumer error: {}\".format(msg.error()))\n",
    "        continue\n",
    "\n",
    "    print(msg.value().decode('utf-8'))\n",
    "    json_body=[]\n",
    "    data[\"time\"]= datetime.datetime.utcnow()\n",
    "    data[\"fields\"]= json.loads(msg.value().decode('utf-8'))\n",
    "    json_body.append(data)\n",
    "    print(json_body)\n",
    "    client.write_points(json_body)\n",
    "     \n",
    "\n",
    "c.close()"
   ]
  },
  {
   "cell_type": "code",
   "execution_count": null,
   "metadata": {},
   "outputs": [],
   "source": []
  },
  {
   "cell_type": "code",
   "execution_count": null,
   "metadata": {},
   "outputs": [],
   "source": []
  }
 ],
 "metadata": {
  "kernelspec": {
   "display_name": "Python 3",
   "language": "python",
   "name": "python3"
  },
  "language_info": {
   "codemirror_mode": {
    "name": "ipython",
    "version": 3
   },
   "file_extension": ".py",
   "mimetype": "text/x-python",
   "name": "python",
   "nbconvert_exporter": "python",
   "pygments_lexer": "ipython3",
   "version": "3.6.8"
  }
 },
 "nbformat": 4,
 "nbformat_minor": 2
}
